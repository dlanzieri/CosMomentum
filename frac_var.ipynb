{
 "cells": [
  {
   "cell_type": "code",
   "execution_count": 1,
   "id": "02540455-e596-4ed1-ad51-acfa089b395f",
   "metadata": {},
   "outputs": [],
   "source": [
    "import numpy as np"
   ]
  },
  {
   "cell_type": "code",
   "execution_count": 2,
   "id": "dad6dca8-feaf-4ee7-9e15-51de639fd7e2",
   "metadata": {},
   "outputs": [],
   "source": [
    "results=[]\n",
    "for i in range(5):\n",
    "    lognormal_params = np.loadtxt('/gpfs7kw/linkhome/rech/genmfd01/ulm75uc/CosMomentum/Data/result_test/shift_dep_test%i.txt' %i, skiprows=1, delimiter=',')\n",
    "    shifts=lognormal_params[:,...,-1]\n",
    "    shifts_fid=shifts[0]\n",
    "    shifts_nofid=shifts[1:]\n",
    "    diff=np.stack(np.split(shifts_nofid, 5))\n",
    "    frac_diff=abs((diff[:, 0]-diff[:, 1])/shifts_fid)\n",
    "    results.append(frac_diff)"
   ]
  },
  {
   "cell_type": "code",
   "execution_count": 3,
   "id": "8ffcc689-3c20-48af-baed-a9f4cf3740a7",
   "metadata": {},
   "outputs": [
    {
     "data": {
      "text/plain": [
       "[array([0.01944655, 0.00629004, 0.06336393, 2.13612183, 0.33692504]),\n",
       " array([0.01857852, 0.00650773, 0.04482991, 1.91313732, 0.2446402 ]),\n",
       " array([0.01785209, 0.0066662 , 0.02799985, 1.71724848, 0.18308648]),\n",
       " array([0.01660912, 0.00658103, 0.01016876, 1.51174971, 0.12547051]),\n",
       " array([0.01286324, 0.00559975, 0.01554037, 1.19374055, 0.03742106])]"
      ]
     },
     "execution_count": 3,
     "metadata": {},
     "output_type": "execute_result"
    }
   ],
   "source": [
    "results"
   ]
  }
 ],
 "metadata": {
  "kernelspec": {
   "display_name": "tensorflow-2.7.0_py3.9",
   "language": "python",
   "name": "module-conda-env-tensorflow-2.7.0_py3.9"
  },
  "language_info": {
   "codemirror_mode": {
    "name": "ipython",
    "version": 3
   },
   "file_extension": ".py",
   "mimetype": "text/x-python",
   "name": "python",
   "nbconvert_exporter": "python",
   "pygments_lexer": "ipython3",
   "version": "3.9.7"
  }
 },
 "nbformat": 4,
 "nbformat_minor": 5
}
