{
 "cells": [
  {
   "cell_type": "code",
   "execution_count": 1,
   "id": "09a123d7-ecac-4802-b44d-632e50cf11b6",
   "metadata": {},
   "outputs": [
    {
     "name": "stdout",
     "output_type": "stream",
     "text": [
      "Populating the interactive namespace from numpy and matplotlib\n"
     ]
    }
   ],
   "source": [
    "%pylab inline\n",
    "import jax\n",
    "import jax.numpy as jnp\n",
    "import jax_cosmo as jc\n",
    "import h5py\n",
    "import pandas"
   ]
  },
  {
   "cell_type": "code",
   "execution_count": 2,
   "id": "fa470a2b-49b2-4884-9605-98c1493aadf6",
   "metadata": {},
   "outputs": [],
   "source": [
    "# Reading the DC2 tomographic bins into redshift distribution objects\n",
    "with h5py.File(\"/gpfs7kw/linkhome/rech/genmfd01/ulm75uc//VMIM-vs-MSE-/notebook/dev/shear_photoz_stack.hdf5\") as f:\n",
    "    group = f[\"n_of_z\"]\n",
    "    # Read the z grid\n",
    "    source = group[\"source\"]\n",
    "    z_shear = source['z'][::]\n",
    "    z_shear_tab = source['z'][::]-0.005\n",
    "    nz_shear = [jc.redshift.kde_nz(z_shear,  \n",
    "                                   source[f\"bin_{i}\"][:], \n",
    "                                   bw=0.01, zmax=2.5) for i in range(5)] \n"
   ]
  },
  {
   "cell_type": "code",
   "execution_count": 3,
   "id": "d6a873e7-25ea-4c9d-a26e-eb087987f2d2",
   "metadata": {},
   "outputs": [],
   "source": [
    "header = 'z_left p([z_left, z_right])'"
   ]
  },
  {
   "cell_type": "code",
   "execution_count": 4,
   "id": "31a023d3-0dff-4aaf-bdd9-cf5798f855ce",
   "metadata": {},
   "outputs": [],
   "source": [
    "for i in range(len(nz_shear)):\n",
    "    row_list = stack(stack([z_shear_tab,nz_shear[i](z_shear)],axis=1))\n",
    "    np.savetxt('Data/redshift_distributions/shear_photoz_stack_%d.tab'%i,  row_list,  header=header, delimiter='\\t')\n",
    "    \n",
    "    \n",
    "\n"
   ]
  }
 ],
 "metadata": {
  "kernelspec": {
   "display_name": "tensorflow-2.7.0_py3.9",
   "language": "python",
   "name": "module-conda-env-tensorflow-2.7.0_py3.9"
  },
  "language_info": {
   "codemirror_mode": {
    "name": "ipython",
    "version": 3
   },
   "file_extension": ".py",
   "mimetype": "text/x-python",
   "name": "python",
   "nbconvert_exporter": "python",
   "pygments_lexer": "ipython3",
   "version": "3.9.7"
  }
 },
 "nbformat": 4,
 "nbformat_minor": 5
}
