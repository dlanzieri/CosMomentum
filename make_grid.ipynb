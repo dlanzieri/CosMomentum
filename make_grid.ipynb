{
 "cells": [
  {
   "cell_type": "code",
   "execution_count": 1,
   "id": "53466eb7-5f37-47f8-869c-6d5e29f4525a",
   "metadata": {},
   "outputs": [],
   "source": [
    "import numpy as np"
   ]
  },
  {
   "cell_type": "code",
   "execution_count": 5,
   "id": "4b601586-7c0e-4fc8-8c50-51b18d5d0ae1",
   "metadata": {},
   "outputs": [],
   "source": [
    "w0=np.linspace(-0.33,-2,10)\n",
    "s8=np.linspace(0.3,1.3,10)\n",
    "om=np.linspace(0.1,0.9,10)"
   ]
  },
  {
   "cell_type": "code",
   "execution_count": 8,
   "id": "5eb65934-153b-4baa-8969-6f952f0c8e93",
   "metadata": {},
   "outputs": [
    {
     "data": {
      "text/plain": [
       "array([0.1       , 0.18888889, 0.27777778, 0.36666667, 0.45555556,\n",
       "       0.54444444, 0.63333333, 0.72222222, 0.81111111, 0.9       ])"
      ]
     },
     "execution_count": 8,
     "metadata": {},
     "output_type": "execute_result"
    }
   ],
   "source": [
    "om"
   ]
  },
  {
   "cell_type": "code",
   "execution_count": 9,
   "id": "6a592683-3b33-47f1-9eb4-7c330a6714c5",
   "metadata": {},
   "outputs": [
    {
     "data": {
      "text/plain": [
       "array([0.3       , 0.41111111, 0.52222222, 0.63333333, 0.74444444,\n",
       "       0.85555556, 0.96666667, 1.07777778, 1.18888889, 1.3       ])"
      ]
     },
     "execution_count": 9,
     "metadata": {},
     "output_type": "execute_result"
    }
   ],
   "source": [
    "s8"
   ]
  },
  {
   "cell_type": "code",
   "execution_count": 10,
   "id": "ebde8c79-9a37-485e-a83d-d4a77d82a8d4",
   "metadata": {},
   "outputs": [
    {
     "data": {
      "text/plain": [
       "array([-0.33      , -0.51555556, -0.70111111, -0.88666667, -1.07222222,\n",
       "       -1.25777778, -1.44333333, -1.62888889, -1.81444444, -2.        ])"
      ]
     },
     "execution_count": 10,
     "metadata": {},
     "output_type": "execute_result"
    }
   ],
   "source": [
    "w0"
   ]
  }
 ],
 "metadata": {
  "kernelspec": {
   "display_name": "tensorflow-2.7.0_py3.9",
   "language": "python",
   "name": "module-conda-env-tensorflow-2.7.0_py3.9"
  },
  "language_info": {
   "codemirror_mode": {
    "name": "ipython",
    "version": 3
   },
   "file_extension": ".py",
   "mimetype": "text/x-python",
   "name": "python",
   "nbconvert_exporter": "python",
   "pygments_lexer": "ipython3",
   "version": "3.9.7"
  }
 },
 "nbformat": 4,
 "nbformat_minor": 5
}
